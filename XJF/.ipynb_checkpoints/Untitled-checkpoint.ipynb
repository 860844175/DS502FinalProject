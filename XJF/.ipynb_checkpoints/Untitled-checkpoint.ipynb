{
 "cells": [
  {
   "cell_type": "code",
   "execution_count": 1,
   "metadata": {},
   "outputs": [],
   "source": [
    "# !pip install sklearn"
   ]
  },
  {
   "cell_type": "code",
   "execution_count": 2,
   "metadata": {},
   "outputs": [],
   "source": [
    "import numpy as np\n",
    "from sklearn.decomposition import PCA"
   ]
  },
  {
   "cell_type": "code",
   "execution_count": 3,
   "metadata": {},
   "outputs": [],
   "source": [
    "train_arr = np.genfromtxt(\"train_sqrt.csv\", delimiter=',', skip_header=True)\n",
    "test_arr = np.genfromtxt(\"test_sqrt.csv\", delimiter=',', skip_header=True)"
   ]
  },
  {
   "cell_type": "code",
   "execution_count": 4,
   "metadata": {},
   "outputs": [],
   "source": [
    "# take out the label column\n",
    "ny_train_arr = train_arr[:,:-1]\n",
    "ny_test_arr = test_arr[:,:-1]"
   ]
  },
  {
   "cell_type": "code",
   "execution_count": 5,
   "metadata": {},
   "outputs": [],
   "source": [
    "pca = PCA(n_components=32)\n",
    "train_pca = pca.fit_transform(ny_train_arr) # PCA on train\n",
    "test_pca = pca.transform(ny_test_arr) # perform the same matrix on"
   ]
  },
  {
   "cell_type": "code",
   "execution_count": 6,
   "metadata": {},
   "outputs": [
    {
     "name": "stdout",
     "output_type": "stream",
     "text": [
      "(868, 1)\n",
      "(868, 217)\n"
     ]
    }
   ],
   "source": [
    "print(train_arr[:,-1].reshape((-1,1)).shape)\n",
    "print(train_arr.shape)"
   ]
  },
  {
   "cell_type": "code",
   "execution_count": 7,
   "metadata": {},
   "outputs": [],
   "source": [
    "# concatenate the label column back\n",
    "train_set = np.concatenate((train_pca,train_arr[:,-1].reshape((-1,1))),axis=1)\n",
    "test_set = np.concatenate((test_pca,test_arr[:,-1].reshape((-1,1))),axis=1)"
   ]
  },
  {
   "cell_type": "code",
   "execution_count": 8,
   "metadata": {},
   "outputs": [],
   "source": [
    "np.savetxt(\"train_sqrt_pca.csv\", train_set, delimiter = ',')\n",
    "np.savetxt(\"test_sqrt_pca.csv\", test_set, delimiter = ',')"
   ]
  }
 ],
 "metadata": {
  "kernelspec": {
   "display_name": "Python 3",
   "language": "python",
   "name": "python3"
  },
  "language_info": {
   "codemirror_mode": {
    "name": "ipython",
    "version": 3
   },
   "file_extension": ".py",
   "mimetype": "text/x-python",
   "name": "python",
   "nbconvert_exporter": "python",
   "pygments_lexer": "ipython3",
   "version": "3.7.7"
  }
 },
 "nbformat": 4,
 "nbformat_minor": 4
}
